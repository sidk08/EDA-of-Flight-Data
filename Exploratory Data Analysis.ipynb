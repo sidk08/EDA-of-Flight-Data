{
 "cells": [
  {
   "cell_type": "markdown",
   "metadata": {},
   "source": [
    "# Exploratory Data Analysis"
   ]
  },
  {
   "cell_type": "markdown",
   "metadata": {},
   "source": [
    "Eda of flight data\n",
    "1. Cleaning data\n",
    "2. Exploring data to find the most travelled destination, preffered airline"
   ]
  },
  {
   "cell_type": "code",
   "execution_count": 1,
   "metadata": {
    "collapsed": true
   },
   "outputs": [],
   "source": [
    "%matplotlib inline\n",
    "import matplotlib.pyplot as plt\n",
    "import numpy as np\n",
    "import pandas as pd\n",
    "from scipy import stats\n",
    "import seaborn as sns"
   ]
  },
  {
   "cell_type": "code",
   "execution_count": 2,
   "metadata": {
    "collapsed": true
   },
   "outputs": [],
   "source": [
    "data=pd.read_csv(r\"536803321_T_T100I_SEGMENT_ALL_CARRIER.csv\")"
   ]
  },
  {
   "cell_type": "code",
   "execution_count": 3,
   "metadata": {},
   "outputs": [
    {
     "name": "stdout",
     "output_type": "stream",
     "text": [
      "<class 'pandas.core.frame.DataFrame'>\n",
      "RangeIndex: 15136 entries, 0 to 15135\n",
      "Data columns (total 44 columns):\n",
      "DEPARTURES_SCHEDULED     15136 non-null float64\n",
      "DEPARTURES_PERFORMED     15136 non-null float64\n",
      "PAYLOAD                  15136 non-null float64\n",
      "SEATS                    15136 non-null float64\n",
      "PASSENGERS               15136 non-null float64\n",
      "FREIGHT                  15136 non-null float64\n",
      "MAIL                     15136 non-null float64\n",
      "DISTANCE                 15136 non-null float64\n",
      "RAMP_TO_RAMP             15136 non-null float64\n",
      "AIR_TIME                 15136 non-null float64\n",
      "UNIQUE_CARRIER           15136 non-null object\n",
      "AIRLINE_ID               15136 non-null int64\n",
      "UNIQUE_CARRIER_NAME      15136 non-null object\n",
      "UNIQUE_CARRIER_ENTITY    15136 non-null object\n",
      "REGION                   15136 non-null object\n",
      "CARRIER                  15136 non-null object\n",
      "CARRIER_NAME             15136 non-null object\n",
      "CARRIER_GROUP            15136 non-null int64\n",
      "CARRIER_GROUP_NEW        15136 non-null int64\n",
      "ORIGIN_AIRPORT_ID        15136 non-null int64\n",
      "ORIGIN_AIRPORT_SEQ_ID    15136 non-null int64\n",
      "ORIGIN_CITY_MARKET_ID    15136 non-null int64\n",
      "ORIGIN                   15136 non-null object\n",
      "ORIGIN_CITY_NAME         15136 non-null object\n",
      "ORIGIN_COUNTRY           15136 non-null object\n",
      "ORIGIN_COUNTRY_NAME      15136 non-null object\n",
      "ORIGIN_WAC               15136 non-null int64\n",
      "DEST_AIRPORT_ID          15136 non-null int64\n",
      "DEST_AIRPORT_SEQ_ID      15136 non-null int64\n",
      "DEST_CITY_MARKET_ID      15136 non-null int64\n",
      "DEST                     15136 non-null object\n",
      "DEST_CITY_NAME           15136 non-null object\n",
      "DEST_COUNTRY             15136 non-null object\n",
      "DEST_COUNTRY_NAME        15136 non-null object\n",
      "DEST_WAC                 15136 non-null int64\n",
      "AIRCRAFT_GROUP           15136 non-null int64\n",
      "AIRCRAFT_TYPE            15136 non-null int64\n",
      "AIRCRAFT_CONFIG          15136 non-null int64\n",
      "YEAR                     15136 non-null int64\n",
      "QUARTER                  15136 non-null int64\n",
      "MONTH                    15136 non-null int64\n",
      "DISTANCE_GROUP           15136 non-null int64\n",
      "CLASS                    15136 non-null object\n",
      "Unnamed: 43              0 non-null float64\n",
      "dtypes: float64(11), int64(18), object(15)\n",
      "memory usage: 5.1+ MB\n"
     ]
    }
   ],
   "source": [
    "data.info()"
   ]
  },
  {
   "cell_type": "markdown",
   "metadata": {},
   "source": [
    "### Checking for null value"
   ]
  },
  {
   "cell_type": "code",
   "execution_count": 4,
   "metadata": {},
   "outputs": [
    {
     "data": {
      "text/plain": [
       "DEPARTURES_SCHEDULED         0\n",
       "DEPARTURES_PERFORMED         0\n",
       "PAYLOAD                      0\n",
       "SEATS                        0\n",
       "PASSENGERS                   0\n",
       "FREIGHT                      0\n",
       "MAIL                         0\n",
       "DISTANCE                     0\n",
       "RAMP_TO_RAMP                 0\n",
       "AIR_TIME                     0\n",
       "UNIQUE_CARRIER               0\n",
       "AIRLINE_ID                   0\n",
       "UNIQUE_CARRIER_NAME          0\n",
       "UNIQUE_CARRIER_ENTITY        0\n",
       "REGION                       0\n",
       "CARRIER                      0\n",
       "CARRIER_NAME                 0\n",
       "CARRIER_GROUP                0\n",
       "CARRIER_GROUP_NEW            0\n",
       "ORIGIN_AIRPORT_ID            0\n",
       "ORIGIN_AIRPORT_SEQ_ID        0\n",
       "ORIGIN_CITY_MARKET_ID        0\n",
       "ORIGIN                       0\n",
       "ORIGIN_CITY_NAME             0\n",
       "ORIGIN_COUNTRY               0\n",
       "ORIGIN_COUNTRY_NAME          0\n",
       "ORIGIN_WAC                   0\n",
       "DEST_AIRPORT_ID              0\n",
       "DEST_AIRPORT_SEQ_ID          0\n",
       "DEST_CITY_MARKET_ID          0\n",
       "DEST                         0\n",
       "DEST_CITY_NAME               0\n",
       "DEST_COUNTRY                 0\n",
       "DEST_COUNTRY_NAME            0\n",
       "DEST_WAC                     0\n",
       "AIRCRAFT_GROUP               0\n",
       "AIRCRAFT_TYPE                0\n",
       "AIRCRAFT_CONFIG              0\n",
       "YEAR                         0\n",
       "QUARTER                      0\n",
       "MONTH                        0\n",
       "DISTANCE_GROUP               0\n",
       "CLASS                        0\n",
       "Unnamed: 43              15136\n",
       "dtype: int64"
      ]
     },
     "execution_count": 4,
     "metadata": {},
     "output_type": "execute_result"
    }
   ],
   "source": [
    "data.isnull().sum()"
   ]
  },
  {
   "cell_type": "markdown",
   "metadata": {},
   "source": [
    "Last column not present in the original dataset. It is being wrongly picked up."
   ]
  },
  {
   "cell_type": "code",
   "execution_count": 5,
   "metadata": {},
   "outputs": [
    {
     "data": {
      "text/plain": [
       "0       NaN\n",
       "1       NaN\n",
       "2       NaN\n",
       "3       NaN\n",
       "4       NaN\n",
       "5       NaN\n",
       "6       NaN\n",
       "7       NaN\n",
       "8       NaN\n",
       "9       NaN\n",
       "10      NaN\n",
       "11      NaN\n",
       "12      NaN\n",
       "13      NaN\n",
       "14      NaN\n",
       "15      NaN\n",
       "16      NaN\n",
       "17      NaN\n",
       "18      NaN\n",
       "19      NaN\n",
       "20      NaN\n",
       "21      NaN\n",
       "22      NaN\n",
       "23      NaN\n",
       "24      NaN\n",
       "25      NaN\n",
       "26      NaN\n",
       "27      NaN\n",
       "28      NaN\n",
       "29      NaN\n",
       "         ..\n",
       "15106   NaN\n",
       "15107   NaN\n",
       "15108   NaN\n",
       "15109   NaN\n",
       "15110   NaN\n",
       "15111   NaN\n",
       "15112   NaN\n",
       "15113   NaN\n",
       "15114   NaN\n",
       "15115   NaN\n",
       "15116   NaN\n",
       "15117   NaN\n",
       "15118   NaN\n",
       "15119   NaN\n",
       "15120   NaN\n",
       "15121   NaN\n",
       "15122   NaN\n",
       "15123   NaN\n",
       "15124   NaN\n",
       "15125   NaN\n",
       "15126   NaN\n",
       "15127   NaN\n",
       "15128   NaN\n",
       "15129   NaN\n",
       "15130   NaN\n",
       "15131   NaN\n",
       "15132   NaN\n",
       "15133   NaN\n",
       "15134   NaN\n",
       "15135   NaN\n",
       "Name: Unnamed: 43, Length: 15136, dtype: float64"
      ]
     },
     "execution_count": 5,
     "metadata": {},
     "output_type": "execute_result"
    }
   ],
   "source": [
    "data[\"Unnamed: 43\"]"
   ]
  },
  {
   "cell_type": "markdown",
   "metadata": {},
   "source": [
    "Deleting last column :"
   ]
  },
  {
   "cell_type": "code",
   "execution_count": 6,
   "metadata": {
    "collapsed": true
   },
   "outputs": [],
   "source": [
    "data_new=data.drop('Unnamed: 43', axis=1)"
   ]
  },
  {
   "cell_type": "code",
   "execution_count": 7,
   "metadata": {},
   "outputs": [
    {
     "name": "stdout",
     "output_type": "stream",
     "text": [
      "<class 'pandas.core.frame.DataFrame'>\n",
      "RangeIndex: 15136 entries, 0 to 15135\n",
      "Data columns (total 43 columns):\n",
      "DEPARTURES_SCHEDULED     15136 non-null float64\n",
      "DEPARTURES_PERFORMED     15136 non-null float64\n",
      "PAYLOAD                  15136 non-null float64\n",
      "SEATS                    15136 non-null float64\n",
      "PASSENGERS               15136 non-null float64\n",
      "FREIGHT                  15136 non-null float64\n",
      "MAIL                     15136 non-null float64\n",
      "DISTANCE                 15136 non-null float64\n",
      "RAMP_TO_RAMP             15136 non-null float64\n",
      "AIR_TIME                 15136 non-null float64\n",
      "UNIQUE_CARRIER           15136 non-null object\n",
      "AIRLINE_ID               15136 non-null int64\n",
      "UNIQUE_CARRIER_NAME      15136 non-null object\n",
      "UNIQUE_CARRIER_ENTITY    15136 non-null object\n",
      "REGION                   15136 non-null object\n",
      "CARRIER                  15136 non-null object\n",
      "CARRIER_NAME             15136 non-null object\n",
      "CARRIER_GROUP            15136 non-null int64\n",
      "CARRIER_GROUP_NEW        15136 non-null int64\n",
      "ORIGIN_AIRPORT_ID        15136 non-null int64\n",
      "ORIGIN_AIRPORT_SEQ_ID    15136 non-null int64\n",
      "ORIGIN_CITY_MARKET_ID    15136 non-null int64\n",
      "ORIGIN                   15136 non-null object\n",
      "ORIGIN_CITY_NAME         15136 non-null object\n",
      "ORIGIN_COUNTRY           15136 non-null object\n",
      "ORIGIN_COUNTRY_NAME      15136 non-null object\n",
      "ORIGIN_WAC               15136 non-null int64\n",
      "DEST_AIRPORT_ID          15136 non-null int64\n",
      "DEST_AIRPORT_SEQ_ID      15136 non-null int64\n",
      "DEST_CITY_MARKET_ID      15136 non-null int64\n",
      "DEST                     15136 non-null object\n",
      "DEST_CITY_NAME           15136 non-null object\n",
      "DEST_COUNTRY             15136 non-null object\n",
      "DEST_COUNTRY_NAME        15136 non-null object\n",
      "DEST_WAC                 15136 non-null int64\n",
      "AIRCRAFT_GROUP           15136 non-null int64\n",
      "AIRCRAFT_TYPE            15136 non-null int64\n",
      "AIRCRAFT_CONFIG          15136 non-null int64\n",
      "YEAR                     15136 non-null int64\n",
      "QUARTER                  15136 non-null int64\n",
      "MONTH                    15136 non-null int64\n",
      "DISTANCE_GROUP           15136 non-null int64\n",
      "CLASS                    15136 non-null object\n",
      "dtypes: float64(10), int64(18), object(15)\n",
      "memory usage: 5.0+ MB\n"
     ]
    }
   ],
   "source": [
    "data_new.info()"
   ]
  },
  {
   "cell_type": "code",
   "execution_count": 8,
   "metadata": {},
   "outputs": [
    {
     "data": {
      "text/html": [
       "<div>\n",
       "<style>\n",
       "    .dataframe thead tr:only-child th {\n",
       "        text-align: right;\n",
       "    }\n",
       "\n",
       "    .dataframe thead th {\n",
       "        text-align: left;\n",
       "    }\n",
       "\n",
       "    .dataframe tbody tr th {\n",
       "        vertical-align: top;\n",
       "    }\n",
       "</style>\n",
       "<table border=\"1\" class=\"dataframe\">\n",
       "  <thead>\n",
       "    <tr style=\"text-align: right;\">\n",
       "      <th></th>\n",
       "      <th>DEPARTURES_SCHEDULED</th>\n",
       "      <th>DEPARTURES_PERFORMED</th>\n",
       "      <th>PAYLOAD</th>\n",
       "      <th>SEATS</th>\n",
       "      <th>PASSENGERS</th>\n",
       "      <th>FREIGHT</th>\n",
       "      <th>MAIL</th>\n",
       "      <th>DISTANCE</th>\n",
       "      <th>RAMP_TO_RAMP</th>\n",
       "      <th>AIR_TIME</th>\n",
       "      <th>...</th>\n",
       "      <th>DEST_AIRPORT_SEQ_ID</th>\n",
       "      <th>DEST_CITY_MARKET_ID</th>\n",
       "      <th>DEST_WAC</th>\n",
       "      <th>AIRCRAFT_GROUP</th>\n",
       "      <th>AIRCRAFT_TYPE</th>\n",
       "      <th>AIRCRAFT_CONFIG</th>\n",
       "      <th>YEAR</th>\n",
       "      <th>QUARTER</th>\n",
       "      <th>MONTH</th>\n",
       "      <th>DISTANCE_GROUP</th>\n",
       "    </tr>\n",
       "  </thead>\n",
       "  <tbody>\n",
       "    <tr>\n",
       "      <th>count</th>\n",
       "      <td>15136.000000</td>\n",
       "      <td>15136.000000</td>\n",
       "      <td>1.513600e+04</td>\n",
       "      <td>15136.000000</td>\n",
       "      <td>15136.000000</td>\n",
       "      <td>1.513600e+04</td>\n",
       "      <td>15136.000000</td>\n",
       "      <td>15136.000000</td>\n",
       "      <td>15136.000000</td>\n",
       "      <td>15136.000000</td>\n",
       "      <td>...</td>\n",
       "      <td>1.513600e+04</td>\n",
       "      <td>15136.000000</td>\n",
       "      <td>15136.000000</td>\n",
       "      <td>15136.000000</td>\n",
       "      <td>15136.000000</td>\n",
       "      <td>15136.000000</td>\n",
       "      <td>15136.0</td>\n",
       "      <td>15136.0</td>\n",
       "      <td>15136.000000</td>\n",
       "      <td>15136.000000</td>\n",
       "    </tr>\n",
       "    <tr>\n",
       "      <th>mean</th>\n",
       "      <td>9.674617</td>\n",
       "      <td>17.741742</td>\n",
       "      <td>1.079669e+06</td>\n",
       "      <td>2847.441927</td>\n",
       "      <td>2164.840777</td>\n",
       "      <td>2.086568e+05</td>\n",
       "      <td>2149.037989</td>\n",
       "      <td>2386.231765</td>\n",
       "      <td>2550.953687</td>\n",
       "      <td>2280.379228</td>\n",
       "      <td>...</td>\n",
       "      <td>1.315679e+06</td>\n",
       "      <td>32490.882994</td>\n",
       "      <td>256.529863</td>\n",
       "      <td>6.193842</td>\n",
       "      <td>670.440737</td>\n",
       "      <td>1.155127</td>\n",
       "      <td>2017.0</td>\n",
       "      <td>1.0</td>\n",
       "      <td>1.487315</td>\n",
       "      <td>5.284025</td>\n",
       "    </tr>\n",
       "    <tr>\n",
       "      <th>std</th>\n",
       "      <td>20.011388</td>\n",
       "      <td>22.441015</td>\n",
       "      <td>1.568130e+06</td>\n",
       "      <td>3998.706118</td>\n",
       "      <td>3172.731450</td>\n",
       "      <td>7.265715e+05</td>\n",
       "      <td>14792.587383</td>\n",
       "      <td>1929.297797</td>\n",
       "      <td>5077.198519</td>\n",
       "      <td>4699.877116</td>\n",
       "      <td>...</td>\n",
       "      <td>1.722883e+05</td>\n",
       "      <td>1715.897701</td>\n",
       "      <td>299.035625</td>\n",
       "      <td>0.922045</td>\n",
       "      <td>99.955031</td>\n",
       "      <td>0.383829</td>\n",
       "      <td>0.0</td>\n",
       "      <td>0.0</td>\n",
       "      <td>0.499856</td>\n",
       "      <td>3.852894</td>\n",
       "    </tr>\n",
       "    <tr>\n",
       "      <th>min</th>\n",
       "      <td>0.000000</td>\n",
       "      <td>0.000000</td>\n",
       "      <td>0.000000e+00</td>\n",
       "      <td>0.000000</td>\n",
       "      <td>0.000000</td>\n",
       "      <td>0.000000e+00</td>\n",
       "      <td>0.000000</td>\n",
       "      <td>29.000000</td>\n",
       "      <td>0.000000</td>\n",
       "      <td>0.000000</td>\n",
       "      <td>...</td>\n",
       "      <td>1.013603e+06</td>\n",
       "      <td>30082.000000</td>\n",
       "      <td>1.000000</td>\n",
       "      <td>0.000000</td>\n",
       "      <td>30.000000</td>\n",
       "      <td>1.000000</td>\n",
       "      <td>2017.0</td>\n",
       "      <td>1.0</td>\n",
       "      <td>1.000000</td>\n",
       "      <td>1.000000</td>\n",
       "    </tr>\n",
       "    <tr>\n",
       "      <th>25%</th>\n",
       "      <td>0.000000</td>\n",
       "      <td>2.000000</td>\n",
       "      <td>1.150000e+05</td>\n",
       "      <td>150.000000</td>\n",
       "      <td>82.000000</td>\n",
       "      <td>0.000000e+00</td>\n",
       "      <td>0.000000</td>\n",
       "      <td>1023.000000</td>\n",
       "      <td>0.000000</td>\n",
       "      <td>0.000000</td>\n",
       "      <td>...</td>\n",
       "      <td>1.173103e+06</td>\n",
       "      <td>31032.000000</td>\n",
       "      <td>34.000000</td>\n",
       "      <td>6.000000</td>\n",
       "      <td>622.000000</td>\n",
       "      <td>1.000000</td>\n",
       "      <td>2017.0</td>\n",
       "      <td>1.0</td>\n",
       "      <td>1.000000</td>\n",
       "      <td>3.000000</td>\n",
       "    </tr>\n",
       "    <tr>\n",
       "      <th>50%</th>\n",
       "      <td>0.000000</td>\n",
       "      <td>10.000000</td>\n",
       "      <td>5.081420e+05</td>\n",
       "      <td>1149.500000</td>\n",
       "      <td>831.000000</td>\n",
       "      <td>0.000000e+00</td>\n",
       "      <td>0.000000</td>\n",
       "      <td>1597.000000</td>\n",
       "      <td>235.000000</td>\n",
       "      <td>199.000000</td>\n",
       "      <td>...</td>\n",
       "      <td>1.318002e+06</td>\n",
       "      <td>32134.000000</td>\n",
       "      <td>108.000000</td>\n",
       "      <td>6.000000</td>\n",
       "      <td>655.000000</td>\n",
       "      <td>1.000000</td>\n",
       "      <td>2017.0</td>\n",
       "      <td>1.0</td>\n",
       "      <td>1.000000</td>\n",
       "      <td>4.000000</td>\n",
       "    </tr>\n",
       "    <tr>\n",
       "      <th>75%</th>\n",
       "      <td>13.000000</td>\n",
       "      <td>27.000000</td>\n",
       "      <td>1.413600e+06</td>\n",
       "      <td>4308.500000</td>\n",
       "      <td>3217.000000</td>\n",
       "      <td>1.173922e+05</td>\n",
       "      <td>0.000000</td>\n",
       "      <td>3799.000000</td>\n",
       "      <td>2561.250000</td>\n",
       "      <td>2135.250000</td>\n",
       "      <td>...</td>\n",
       "      <td>1.431202e+06</td>\n",
       "      <td>33518.000000</td>\n",
       "      <td>419.000000</td>\n",
       "      <td>6.000000</td>\n",
       "      <td>698.000000</td>\n",
       "      <td>1.000000</td>\n",
       "      <td>2017.0</td>\n",
       "      <td>1.0</td>\n",
       "      <td>2.000000</td>\n",
       "      <td>8.000000</td>\n",
       "    </tr>\n",
       "    <tr>\n",
       "      <th>max</th>\n",
       "      <td>560.000000</td>\n",
       "      <td>306.000000</td>\n",
       "      <td>3.677080e+07</td>\n",
       "      <td>46135.000000</td>\n",
       "      <td>41918.000000</td>\n",
       "      <td>3.010074e+07</td>\n",
       "      <td>403411.000000</td>\n",
       "      <td>9100.000000</td>\n",
       "      <td>50348.000000</td>\n",
       "      <td>47470.000000</td>\n",
       "      <td>...</td>\n",
       "      <td>1.671901e+06</td>\n",
       "      <td>36698.000000</td>\n",
       "      <td>961.000000</td>\n",
       "      <td>8.000000</td>\n",
       "      <td>889.000000</td>\n",
       "      <td>4.000000</td>\n",
       "      <td>2017.0</td>\n",
       "      <td>1.0</td>\n",
       "      <td>2.000000</td>\n",
       "      <td>19.000000</td>\n",
       "    </tr>\n",
       "  </tbody>\n",
       "</table>\n",
       "<p>8 rows × 28 columns</p>\n",
       "</div>"
      ],
      "text/plain": [
       "       DEPARTURES_SCHEDULED  DEPARTURES_PERFORMED       PAYLOAD         SEATS  \\\n",
       "count          15136.000000          15136.000000  1.513600e+04  15136.000000   \n",
       "mean               9.674617             17.741742  1.079669e+06   2847.441927   \n",
       "std               20.011388             22.441015  1.568130e+06   3998.706118   \n",
       "min                0.000000              0.000000  0.000000e+00      0.000000   \n",
       "25%                0.000000              2.000000  1.150000e+05    150.000000   \n",
       "50%                0.000000             10.000000  5.081420e+05   1149.500000   \n",
       "75%               13.000000             27.000000  1.413600e+06   4308.500000   \n",
       "max              560.000000            306.000000  3.677080e+07  46135.000000   \n",
       "\n",
       "         PASSENGERS       FREIGHT           MAIL      DISTANCE  RAMP_TO_RAMP  \\\n",
       "count  15136.000000  1.513600e+04   15136.000000  15136.000000  15136.000000   \n",
       "mean    2164.840777  2.086568e+05    2149.037989   2386.231765   2550.953687   \n",
       "std     3172.731450  7.265715e+05   14792.587383   1929.297797   5077.198519   \n",
       "min        0.000000  0.000000e+00       0.000000     29.000000      0.000000   \n",
       "25%       82.000000  0.000000e+00       0.000000   1023.000000      0.000000   \n",
       "50%      831.000000  0.000000e+00       0.000000   1597.000000    235.000000   \n",
       "75%     3217.000000  1.173922e+05       0.000000   3799.000000   2561.250000   \n",
       "max    41918.000000  3.010074e+07  403411.000000   9100.000000  50348.000000   \n",
       "\n",
       "           AIR_TIME       ...        DEST_AIRPORT_SEQ_ID  DEST_CITY_MARKET_ID  \\\n",
       "count  15136.000000       ...               1.513600e+04         15136.000000   \n",
       "mean    2280.379228       ...               1.315679e+06         32490.882994   \n",
       "std     4699.877116       ...               1.722883e+05          1715.897701   \n",
       "min        0.000000       ...               1.013603e+06         30082.000000   \n",
       "25%        0.000000       ...               1.173103e+06         31032.000000   \n",
       "50%      199.000000       ...               1.318002e+06         32134.000000   \n",
       "75%     2135.250000       ...               1.431202e+06         33518.000000   \n",
       "max    47470.000000       ...               1.671901e+06         36698.000000   \n",
       "\n",
       "           DEST_WAC  AIRCRAFT_GROUP  AIRCRAFT_TYPE  AIRCRAFT_CONFIG     YEAR  \\\n",
       "count  15136.000000    15136.000000   15136.000000     15136.000000  15136.0   \n",
       "mean     256.529863        6.193842     670.440737         1.155127   2017.0   \n",
       "std      299.035625        0.922045      99.955031         0.383829      0.0   \n",
       "min        1.000000        0.000000      30.000000         1.000000   2017.0   \n",
       "25%       34.000000        6.000000     622.000000         1.000000   2017.0   \n",
       "50%      108.000000        6.000000     655.000000         1.000000   2017.0   \n",
       "75%      419.000000        6.000000     698.000000         1.000000   2017.0   \n",
       "max      961.000000        8.000000     889.000000         4.000000   2017.0   \n",
       "\n",
       "       QUARTER         MONTH  DISTANCE_GROUP  \n",
       "count  15136.0  15136.000000    15136.000000  \n",
       "mean       1.0      1.487315        5.284025  \n",
       "std        0.0      0.499856        3.852894  \n",
       "min        1.0      1.000000        1.000000  \n",
       "25%        1.0      1.000000        3.000000  \n",
       "50%        1.0      1.000000        4.000000  \n",
       "75%        1.0      2.000000        8.000000  \n",
       "max        1.0      2.000000       19.000000  \n",
       "\n",
       "[8 rows x 28 columns]"
      ]
     },
     "execution_count": 8,
     "metadata": {},
     "output_type": "execute_result"
    }
   ],
   "source": [
    "data_new.describe()"
   ]
  },
  {
   "cell_type": "code",
   "execution_count": 9,
   "metadata": {},
   "outputs": [
    {
     "data": {
      "text/plain": [
       "count             15136\n",
       "unique              115\n",
       "top       United States\n",
       "freq               7527\n",
       "Name: DEST_COUNTRY_NAME, dtype: object"
      ]
     },
     "execution_count": 9,
     "metadata": {},
     "output_type": "execute_result"
    }
   ],
   "source": [
    "data_new['DEST_COUNTRY_NAME'].describe()"
   ]
  },
  {
   "cell_type": "code",
   "execution_count": 10,
   "metadata": {},
   "outputs": [
    {
     "data": {
      "text/plain": [
       "count             15136\n",
       "unique              110\n",
       "top       United States\n",
       "freq               7609\n",
       "Name: ORIGIN_COUNTRY_NAME, dtype: object"
      ]
     },
     "execution_count": 10,
     "metadata": {},
     "output_type": "execute_result"
    }
   ],
   "source": [
    "data_new['ORIGIN_COUNTRY_NAME'].describe()"
   ]
  },
  {
   "cell_type": "code",
   "execution_count": 11,
   "metadata": {},
   "outputs": [
    {
     "data": {
      "text/plain": [
       "<matplotlib.axes._subplots.AxesSubplot at 0x2058e5c8cf8>"
      ]
     },
     "execution_count": 11,
     "metadata": {},
     "output_type": "execute_result"
    },
    {
     "data": {
      "image/png": "[encoded data removed]",
      "text/plain": [
       "<matplotlib.figure.Figure at 0x2058e5f9dd8>"
      ]
     },
     "metadata": {},
     "output_type": "display_data"
    }
   ],
   "source": [
    "dtafilter_dest=data_new.groupby('DEST_COUNTRY_NAME').filter(lambda x : ( x['DEST_COUNTRY_NAME'].value_counts()>150).any() )\n",
    "dtafilter_dest.groupby('DEST_COUNTRY_NAME').agg({'PASSENGERS':'size'}).plot(kind=\"bar\", figsize=[20,5], title=\"Passengers by Dest. country\")"
   ]
  },
  {
   "cell_type": "code",
   "execution_count": 12,
   "metadata": {},
   "outputs": [
    {
     "data": {
      "text/plain": [
       "<matplotlib.axes._subplots.AxesSubplot at 0x2058eebff98>"
      ]
     },
     "execution_count": 12,
     "metadata": {},
     "output_type": "execute_result"
    },
    {
     "data": {
      "image/png": "[encoded data removed]",
      "text/plain": [
       "<matplotlib.figure.Figure at 0x2058eb90550>"
      ]
     },
     "metadata": {},
     "output_type": "display_data"
    }
   ],
   "source": [
    "dtafilter_ori=data_new.groupby('ORIGIN_COUNTRY_NAME').filter(lambda x : ( x['ORIGIN_COUNTRY_NAME'].value_counts()>150).any() )\n",
    "dtafilter_ori.groupby('ORIGIN_COUNTRY_NAME').agg({'PASSENGERS':'size'}).plot(kind=\"bar\", figsize=[20,5], title=\"Passengers by Origin country\")"
   ]
  },
  {
   "cell_type": "markdown",
   "metadata": {},
   "source": [
    "#### The most travel took place between USA,Canada and Mexico"
   ]
  },
  {
   "cell_type": "code",
   "execution_count": 13,
   "metadata": {},
   "outputs": [
    {
     "data": {
      "text/plain": [
       "<matplotlib.axes._subplots.AxesSubplot at 0x2058ec16e48>"
      ]
     },
     "execution_count": 13,
     "metadata": {},
     "output_type": "execute_result"
    },
    {
     "data": {
      "image/png": "[encoded data removed]",
      "text/plain": [
       "<matplotlib.figure.Figure at 0x2058ec069b0>"
      ]
     },
     "metadata": {},
     "output_type": "display_data"
    }
   ],
   "source": [
    "data_new.groupby('MONTH').agg({'PASSENGERS':'size'})\n",
    "sns.boxplot(x='MONTH', y='PASSENGERS', hue='REGION', data=data_new)"
   ]
  },
  {
   "cell_type": "code",
   "execution_count": 14,
   "metadata": {},
   "outputs": [
    {
     "data": {
      "text/plain": [
       "United Air Lines Inc.                                          1456\n",
       "Delta Air Lines Inc.                                           1453\n",
       "American Airlines Inc.                                         1288\n",
       "Westjet                                                         514\n",
       "JetBlue Airways                                                 411\n",
       "Air Canada                                                      365\n",
       "Alaska Airlines Inc.                                            329\n",
       "Federal Express Corporation                                     289\n",
       "Concesionaria Vuela Compania De Aviacion SA de CV (Volaris)     277\n",
       "Norwegian Air Shuttle ASA                                       243\n",
       "United Parcel Service                                           234\n",
       "SkyWest Airlines Inc.                                           215\n",
       "Lufthansa German Airlines                                       208\n",
       "Southwest Airlines Co.                                          192\n",
       "British Airways Plc                                             186\n",
       "Air Canada rouge LP                                             177\n",
       "ExpressJet Airlines Inc.                                        174\n",
       "Korean Air Lines Co. Ltd.                                       171\n",
       "Aeromexico                                                      168\n",
       "Atlas Air Inc.                                                  158\n",
       "VistaJet Limited                                                149\n",
       "Spirit Air Lines                                                148\n",
       "Amerijet International                                          147\n",
       "Chartright Air Inc.                                             145\n",
       "Sun Country Airlines d/b/a MN Airlines                          132\n",
       "Taca International Airlines                                     128\n",
       "Republic Airlines                                               122\n",
       "Mesa Airlines Inc.                                              122\n",
       "Swift Air, LLC                                                  120\n",
       "ABX Air Inc                                                     114\n",
       "                                                               ... \n",
       "Privatair                                                         4\n",
       "Dreamjet SAS Dba La Compagnie                                     4\n",
       "Eastar Jet Co Ltd.                                                4\n",
       "Polynesian Airlines Ltd.                                          4\n",
       "Brussels Airlines N.V.                                            4\n",
       "Taca Peru                                                         4\n",
       "Air Japan Co                                                      4\n",
       "Vensecar International                                            4\n",
       "Hong Kong Airlines Limited                                        4\n",
       "Kuwait Airways Corp.                                              4\n",
       "International Jet Management GmbH                                 4\n",
       "Transportes Aereos De Cabo                                        4\n",
       "Dassault Falcon Service                                           3\n",
       "XL Airways France                                                 3\n",
       "Jet Aviation Business Jets AG                                     3\n",
       "Jet2.com                                                          3\n",
       "Comlux Malta, Ltd.                                                2\n",
       "Titan Airways                                                     2\n",
       "Venture Travel LLC d/b/a Taquan Air Service                       2\n",
       "Yangtze River Express Airlines Company                            2\n",
       "Propair                                                           2\n",
       "Antonov Company                                                   2\n",
       "Longtail Aviation Ltd.                                            2\n",
       "Lynden Air Cargo Airlines                                         2\n",
       "Mjet GmbH                                                         2\n",
       "Cargologicair Limited                                             2\n",
       "Gainjet Aviation SA                                               2\n",
       "Acropolis Aviation Ltd.                                           2\n",
       "Cavok Air LLC                                                     1\n",
       "VRG Linhas Aereas S A                                             1\n",
       "Name: CARRIER_NAME, Length: 243, dtype: int64"
      ]
     },
     "execution_count": 14,
     "metadata": {},
     "output_type": "execute_result"
    }
   ],
   "source": [
    "data_new['CARRIER_NAME'].value_counts()"
   ]
  },
  {
   "cell_type": "markdown",
   "metadata": {},
   "source": [
    "#### United Airlines is the preffered carrier"
   ]
  },
  {
   "cell_type": "code",
   "execution_count": 15,
   "metadata": {},
   "outputs": [
    {
     "data": {
      "text/plain": [
       "<matplotlib.axes._subplots.AxesSubplot at 0x2058ee889b0>"
      ]
     },
     "execution_count": 15,
     "metadata": {},
     "output_type": "execute_result"
    },
    {
     "data": {
      "image/png": "[encoded data removed]",
      "text/plain": [
       "<matplotlib.figure.Figure at 0x2058ed2af60>"
      ]
     },
     "metadata": {},
     "output_type": "display_data"
    }
   ],
   "source": [
    "sns.distplot(data_new['CARRIER'].value_counts())"
   ]
  },
  {
   "cell_type": "code",
   "execution_count": 16,
   "metadata": {},
   "outputs": [
    {
     "data": {
      "text/plain": [
       "array([[<matplotlib.axes._subplots.AxesSubplot object at 0x000002058EDAFEF0>]], dtype=object)"
      ]
     },
     "execution_count": 16,
     "metadata": {},
     "output_type": "execute_result"
    },
    {
     "data": {
      "image/png": "[encoded data removed]",
      "text/plain": [
       "<matplotlib.figure.Figure at 0x2058ed40978>"
      ]
     },
     "metadata": {},
     "output_type": "display_data"
    }
   ],
   "source": [
    "data_count=data_new['DEST'].value_counts()         #.index.tolist()\n",
    "data_count_index=data_new['DEST'].value_counts().index.tolist()\n",
    "df=pd.DataFrame({'Dest': data_count_index, 'Counts':data_count})\n",
    "df.hist()"
   ]
  },
  {
   "cell_type": "code",
   "execution_count": 17,
   "metadata": {},
   "outputs": [
    {
     "data": {
      "text/plain": [
       "<matplotlib.axes._subplots.AxesSubplot at 0x2058f07ebe0>"
      ]
     },
     "execution_count": 17,
     "metadata": {},
     "output_type": "execute_result"
    },
    {
     "data": {
      "image/png": "[encoded data removed]",
      "text/plain": [
       "<matplotlib.figure.Figure at 0x2058efe98d0>"
      ]
     },
     "metadata": {},
     "output_type": "display_data"
    }
   ],
   "source": [
    "sns.boxplot(x=data_new['DEST'].value_counts()) "
   ]
  },
  {
   "cell_type": "code",
   "execution_count": null,
   "metadata": {
    "collapsed": true
   },
   "outputs": [],
   "source": []
  }
 ],
 "metadata": {
  "kernelspec": {
   "display_name": "Python 3",
   "language": "python",
   "name": "python3"
  },
  "language_info": {
   "codemirror_mode": {
    "name": "ipython",
    "version": 3
   },
   "file_extension": ".py",
   "mimetype": "text/x-python",
   "name": "python",
   "nbconvert_exporter": "python",
   "pygments_lexer": "ipython3",
   "version": "3.6.3"
  }
 },
 "nbformat": 4,
 "nbformat_minor": 2
}
